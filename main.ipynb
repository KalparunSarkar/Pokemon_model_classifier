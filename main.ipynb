{
 "cells": [
  {
   "cell_type": "code",
   "execution_count": 30,
   "id": "00e88c2f-0158-4a0e-8dac-7e052aa8b12b",
   "metadata": {},
   "outputs": [
    {
     "name": "stdout",
     "output_type": "stream",
     "text": [
      "Requirement already satisfied: numpy in /opt/anaconda3/lib/python3.12/site-packages (from -r req.txt (line 1)) (1.26.4)\n",
      "Requirement already satisfied: pandas in /opt/anaconda3/lib/python3.12/site-packages (from -r req.txt (line 2)) (2.2.2)\n",
      "Requirement already satisfied: opencv-python in /opt/anaconda3/lib/python3.12/site-packages (from -r req.txt (line 3)) (4.11.0.86)\n",
      "Requirement already satisfied: pillow in /opt/anaconda3/lib/python3.12/site-packages (from -r req.txt (line 4)) (10.4.0)\n",
      "Requirement already satisfied: scikit-learn in /opt/anaconda3/lib/python3.12/site-packages (from -r req.txt (line 5)) (1.5.1)\n",
      "Requirement already satisfied: matplotlib in /opt/anaconda3/lib/python3.12/site-packages (from -r req.txt (line 6)) (3.9.2)\n",
      "Requirement already satisfied: tensorflow in /opt/anaconda3/lib/python3.12/site-packages (from -r req.txt (line 7)) (2.18.0)\n",
      "Requirement already satisfied: datasets in /opt/anaconda3/lib/python3.12/site-packages (from -r req.txt (line 8)) (3.5.0)\n",
      "Requirement already satisfied: python-dateutil>=2.8.2 in /opt/anaconda3/lib/python3.12/site-packages (from pandas->-r req.txt (line 2)) (2.9.0.post0)\n",
      "Requirement already satisfied: pytz>=2020.1 in /opt/anaconda3/lib/python3.12/site-packages (from pandas->-r req.txt (line 2)) (2024.1)\n",
      "Requirement already satisfied: tzdata>=2022.7 in /opt/anaconda3/lib/python3.12/site-packages (from pandas->-r req.txt (line 2)) (2023.3)\n",
      "Requirement already satisfied: scipy>=1.6.0 in /opt/anaconda3/lib/python3.12/site-packages (from scikit-learn->-r req.txt (line 5)) (1.13.1)\n",
      "Requirement already satisfied: joblib>=1.2.0 in /opt/anaconda3/lib/python3.12/site-packages (from scikit-learn->-r req.txt (line 5)) (1.4.2)\n",
      "Requirement already satisfied: threadpoolctl>=3.1.0 in /opt/anaconda3/lib/python3.12/site-packages (from scikit-learn->-r req.txt (line 5)) (3.5.0)\n",
      "Requirement already satisfied: contourpy>=1.0.1 in /opt/anaconda3/lib/python3.12/site-packages (from matplotlib->-r req.txt (line 6)) (1.2.0)\n",
      "Requirement already satisfied: cycler>=0.10 in /opt/anaconda3/lib/python3.12/site-packages (from matplotlib->-r req.txt (line 6)) (0.11.0)\n",
      "Requirement already satisfied: fonttools>=4.22.0 in /opt/anaconda3/lib/python3.12/site-packages (from matplotlib->-r req.txt (line 6)) (4.51.0)\n",
      "Requirement already satisfied: kiwisolver>=1.3.1 in /opt/anaconda3/lib/python3.12/site-packages (from matplotlib->-r req.txt (line 6)) (1.4.4)\n",
      "Requirement already satisfied: packaging>=20.0 in /opt/anaconda3/lib/python3.12/site-packages (from matplotlib->-r req.txt (line 6)) (24.1)\n",
      "Requirement already satisfied: pyparsing>=2.3.1 in /opt/anaconda3/lib/python3.12/site-packages (from matplotlib->-r req.txt (line 6)) (3.1.2)\n",
      "Requirement already satisfied: absl-py>=1.0.0 in /opt/anaconda3/lib/python3.12/site-packages (from tensorflow->-r req.txt (line 7)) (2.1.0)\n",
      "Requirement already satisfied: astunparse>=1.6.0 in /opt/anaconda3/lib/python3.12/site-packages (from tensorflow->-r req.txt (line 7)) (1.6.3)\n",
      "Requirement already satisfied: flatbuffers>=24.3.25 in /opt/anaconda3/lib/python3.12/site-packages (from tensorflow->-r req.txt (line 7)) (25.2.10)\n",
      "Requirement already satisfied: gast!=0.5.0,!=0.5.1,!=0.5.2,>=0.2.1 in /opt/anaconda3/lib/python3.12/site-packages (from tensorflow->-r req.txt (line 7)) (0.6.0)\n",
      "Requirement already satisfied: google-pasta>=0.1.1 in /opt/anaconda3/lib/python3.12/site-packages (from tensorflow->-r req.txt (line 7)) (0.2.0)\n",
      "Requirement already satisfied: libclang>=13.0.0 in /opt/anaconda3/lib/python3.12/site-packages (from tensorflow->-r req.txt (line 7)) (18.1.1)\n",
      "Requirement already satisfied: opt-einsum>=2.3.2 in /opt/anaconda3/lib/python3.12/site-packages (from tensorflow->-r req.txt (line 7)) (3.4.0)\n",
      "Requirement already satisfied: protobuf!=4.21.0,!=4.21.1,!=4.21.2,!=4.21.3,!=4.21.4,!=4.21.5,<6.0.0dev,>=3.20.3 in /opt/anaconda3/lib/python3.12/site-packages (from tensorflow->-r req.txt (line 7)) (4.25.3)\n",
      "Requirement already satisfied: requests<3,>=2.21.0 in /opt/anaconda3/lib/python3.12/site-packages (from tensorflow->-r req.txt (line 7)) (2.32.3)\n",
      "Requirement already satisfied: setuptools in /opt/anaconda3/lib/python3.12/site-packages (from tensorflow->-r req.txt (line 7)) (75.1.0)\n",
      "Requirement already satisfied: six>=1.12.0 in /opt/anaconda3/lib/python3.12/site-packages (from tensorflow->-r req.txt (line 7)) (1.16.0)\n",
      "Requirement already satisfied: termcolor>=1.1.0 in /opt/anaconda3/lib/python3.12/site-packages (from tensorflow->-r req.txt (line 7)) (2.5.0)\n",
      "Requirement already satisfied: typing-extensions>=3.6.6 in /opt/anaconda3/lib/python3.12/site-packages (from tensorflow->-r req.txt (line 7)) (4.11.0)\n",
      "Requirement already satisfied: wrapt>=1.11.0 in /opt/anaconda3/lib/python3.12/site-packages (from tensorflow->-r req.txt (line 7)) (1.14.1)\n",
      "Requirement already satisfied: grpcio<2.0,>=1.24.3 in /opt/anaconda3/lib/python3.12/site-packages (from tensorflow->-r req.txt (line 7)) (1.70.0)\n",
      "Requirement already satisfied: tensorboard<2.19,>=2.18 in /opt/anaconda3/lib/python3.12/site-packages (from tensorflow->-r req.txt (line 7)) (2.18.0)\n",
      "Requirement already satisfied: keras>=3.5.0 in /opt/anaconda3/lib/python3.12/site-packages (from tensorflow->-r req.txt (line 7)) (3.8.0)\n",
      "Requirement already satisfied: h5py>=3.11.0 in /opt/anaconda3/lib/python3.12/site-packages (from tensorflow->-r req.txt (line 7)) (3.11.0)\n",
      "Requirement already satisfied: ml-dtypes<0.5.0,>=0.4.0 in /opt/anaconda3/lib/python3.12/site-packages (from tensorflow->-r req.txt (line 7)) (0.4.1)\n",
      "Requirement already satisfied: filelock in /opt/anaconda3/lib/python3.12/site-packages (from datasets->-r req.txt (line 8)) (3.13.1)\n",
      "Requirement already satisfied: pyarrow>=15.0.0 in /opt/anaconda3/lib/python3.12/site-packages (from datasets->-r req.txt (line 8)) (16.1.0)\n",
      "Requirement already satisfied: dill<0.3.9,>=0.3.0 in /opt/anaconda3/lib/python3.12/site-packages (from datasets->-r req.txt (line 8)) (0.3.8)\n",
      "Requirement already satisfied: tqdm>=4.66.3 in /opt/anaconda3/lib/python3.12/site-packages (from datasets->-r req.txt (line 8)) (4.66.5)\n",
      "Requirement already satisfied: xxhash in /opt/anaconda3/lib/python3.12/site-packages (from datasets->-r req.txt (line 8)) (3.5.0)\n",
      "Requirement already satisfied: multiprocess<0.70.17 in /opt/anaconda3/lib/python3.12/site-packages (from datasets->-r req.txt (line 8)) (0.70.16)\n",
      "Requirement already satisfied: fsspec<=2024.12.0,>=2023.1.0 in /opt/anaconda3/lib/python3.12/site-packages (from fsspec[http]<=2024.12.0,>=2023.1.0->datasets->-r req.txt (line 8)) (2024.6.1)\n",
      "Requirement already satisfied: aiohttp in /opt/anaconda3/lib/python3.12/site-packages (from datasets->-r req.txt (line 8)) (3.10.5)\n",
      "Requirement already satisfied: huggingface-hub>=0.24.0 in /opt/anaconda3/lib/python3.12/site-packages (from datasets->-r req.txt (line 8)) (0.29.1)\n",
      "Requirement already satisfied: pyyaml>=5.1 in /opt/anaconda3/lib/python3.12/site-packages (from datasets->-r req.txt (line 8)) (6.0.1)\n",
      "Requirement already satisfied: wheel<1.0,>=0.23.0 in /opt/anaconda3/lib/python3.12/site-packages (from astunparse>=1.6.0->tensorflow->-r req.txt (line 7)) (0.44.0)\n",
      "Requirement already satisfied: aiohappyeyeballs>=2.3.0 in /opt/anaconda3/lib/python3.12/site-packages (from aiohttp->datasets->-r req.txt (line 8)) (2.4.0)\n",
      "Requirement already satisfied: aiosignal>=1.1.2 in /opt/anaconda3/lib/python3.12/site-packages (from aiohttp->datasets->-r req.txt (line 8)) (1.2.0)\n",
      "Requirement already satisfied: attrs>=17.3.0 in /opt/anaconda3/lib/python3.12/site-packages (from aiohttp->datasets->-r req.txt (line 8)) (25.3.0)\n",
      "Requirement already satisfied: frozenlist>=1.1.1 in /opt/anaconda3/lib/python3.12/site-packages (from aiohttp->datasets->-r req.txt (line 8)) (1.4.0)\n",
      "Requirement already satisfied: multidict<7.0,>=4.5 in /opt/anaconda3/lib/python3.12/site-packages (from aiohttp->datasets->-r req.txt (line 8)) (6.0.4)\n",
      "Requirement already satisfied: yarl<2.0,>=1.0 in /opt/anaconda3/lib/python3.12/site-packages (from aiohttp->datasets->-r req.txt (line 8)) (1.11.0)\n",
      "Requirement already satisfied: rich in /opt/anaconda3/lib/python3.12/site-packages (from keras>=3.5.0->tensorflow->-r req.txt (line 7)) (13.7.1)\n",
      "Requirement already satisfied: namex in /opt/anaconda3/lib/python3.12/site-packages (from keras>=3.5.0->tensorflow->-r req.txt (line 7)) (0.0.8)\n",
      "Requirement already satisfied: optree in /opt/anaconda3/lib/python3.12/site-packages (from keras>=3.5.0->tensorflow->-r req.txt (line 7)) (0.14.0)\n",
      "Requirement already satisfied: charset-normalizer<4,>=2 in /opt/anaconda3/lib/python3.12/site-packages (from requests<3,>=2.21.0->tensorflow->-r req.txt (line 7)) (3.3.2)\n",
      "Requirement already satisfied: idna<4,>=2.5 in /opt/anaconda3/lib/python3.12/site-packages (from requests<3,>=2.21.0->tensorflow->-r req.txt (line 7)) (3.7)\n",
      "Requirement already satisfied: urllib3<3,>=1.21.1 in /opt/anaconda3/lib/python3.12/site-packages (from requests<3,>=2.21.0->tensorflow->-r req.txt (line 7)) (2.2.3)\n",
      "Requirement already satisfied: certifi>=2017.4.17 in /opt/anaconda3/lib/python3.12/site-packages (from requests<3,>=2.21.0->tensorflow->-r req.txt (line 7)) (2025.1.31)\n",
      "Requirement already satisfied: markdown>=2.6.8 in /opt/anaconda3/lib/python3.12/site-packages (from tensorboard<2.19,>=2.18->tensorflow->-r req.txt (line 7)) (3.4.1)\n",
      "Requirement already satisfied: tensorboard-data-server<0.8.0,>=0.7.0 in /opt/anaconda3/lib/python3.12/site-packages (from tensorboard<2.19,>=2.18->tensorflow->-r req.txt (line 7)) (0.7.2)\n",
      "Requirement already satisfied: werkzeug>=1.0.1 in /opt/anaconda3/lib/python3.12/site-packages (from tensorboard<2.19,>=2.18->tensorflow->-r req.txt (line 7)) (3.0.3)\n",
      "Requirement already satisfied: MarkupSafe>=2.1.1 in /opt/anaconda3/lib/python3.12/site-packages (from werkzeug>=1.0.1->tensorboard<2.19,>=2.18->tensorflow->-r req.txt (line 7)) (2.1.3)\n",
      "Requirement already satisfied: markdown-it-py>=2.2.0 in /opt/anaconda3/lib/python3.12/site-packages (from rich->keras>=3.5.0->tensorflow->-r req.txt (line 7)) (2.2.0)\n",
      "Requirement already satisfied: pygments<3.0.0,>=2.13.0 in /opt/anaconda3/lib/python3.12/site-packages (from rich->keras>=3.5.0->tensorflow->-r req.txt (line 7)) (2.15.1)\n",
      "Requirement already satisfied: mdurl~=0.1 in /opt/anaconda3/lib/python3.12/site-packages (from markdown-it-py>=2.2.0->rich->keras>=3.5.0->tensorflow->-r req.txt (line 7)) (0.1.0)\n"
     ]
    }
   ],
   "source": [
    "!pip install -r req.txt ## installs required dependencies from req.txt file "
   ]
  },
  {
   "cell_type": "code",
   "execution_count": 41,
   "id": "59f8d2f4-5ba5-4099-9ba0-5bbe589229a2",
   "metadata": {},
   "outputs": [],
   "source": [
    "import cv2 ## To read and process image\n",
    "import numpy as np ## To handle image datasets as arrays\n",
    "import pandas as pd ## To handle csv datasets\n",
    "import matplotlib.pyplot as plt ## To create graphs and scatter plots\n",
    "from sklearn.cluster import KMeans ## To group similar colors together\n",
    "from collections import Counter ## To identify primary colors\n",
    "from PIL import Image ## For working with images"
   ]
  },
  {
   "cell_type": "code",
   "execution_count": 34,
   "id": "b92f2cf0-6f7b-4fee-9f8d-ccd5a1560658",
   "metadata": {},
   "outputs": [
    {
     "name": "stdout",
     "output_type": "stream",
     "text": [
      "DatasetDict({\n",
      "    train: Dataset({\n",
      "        features: ['image', 'name', 'type_1', 'type_2', 'caption'],\n",
      "        num_rows: 1271\n",
      "    })\n",
      "})\n"
     ]
    }
   ],
   "source": [
    "from datasets import load_dataset\n",
    "\n",
    "ds = load_dataset(\"tungdop2/pokemon\") ## loads the required dataset for further use\n",
    "\n",
    "print(ds)"
   ]
  },
  {
   "cell_type": "markdown",
   "id": "462effa7-57b4-4a1a-9741-4c43b173a34a",
   "metadata": {},
   "source": [
    "We will be using K means clustering to analyse the dataset. \n",
    "K means clustering is an unsupervised machine learning algorithm. It works by segregating data into K groups which are sorted on the basis of similarity\n",
    "Pokémon images contain many colors. We need to extract the dominant ones for classification.\n",
    "K-Means helps group similar pixel colors together and finds the most predominant color."
   ]
  },
  {
   "cell_type": "code",
   "execution_count": 51,
   "id": "87b6292f-a99a-4380-88f2-9f52c3d3218c",
   "metadata": {},
   "outputs": [],
   "source": [
    "def get_dominant_color(image, k=3):\n",
    "\n",
    "    image = image.convert(\"RGB\") ## This is important because the dataset we are handling has some greyscale or RGBA images\n",
    "    ## This will prevent \"ValueError: cannot reshape array of size 902500 into shape (3)\"\n",
    "    \n",
    "    img = np.array(image) ## Convert image into numpy array so that the computer can understand it\n",
    "    \n",
    "    pixels = img.reshape((-1, 3)) ## Reshape the array into a list of pixels. So each pixel will be characterized by the amount of RGB in it\n",
    "\n",
    "    # Apply K-Means clustering\n",
    "    \n",
    "    kmeans = KMeans(n_clusters=k, random_state=42, n_init=10) \n",
    "    ## K-Means randomly initializes centroids and sometimes it gets stuck in local minima\n",
    "    ## n_init chooses different inital value cases so that this can be avoided\n",
    "    \n",
    "    kmeans.fit(pixels)\n",
    "\n",
    "    counts = Counter(kmeans.labels_) ## counts each cluster instance\n",
    "    dominant_cluster = counts.most_common(1)[0][0] ## chooses the most dominant cluster\n",
    "    dominant_color = kmeans.cluster_centers_[dominant_cluster]\n",
    "    \n",
    "    return dominant_color.astype(int)"
   ]
  },
  {
   "cell_type": "markdown",
   "id": "92fc42e8-864e-4888-bb55-86a0b660e92e",
   "metadata": {},
   "source": [
    "An interesting point to note here is something I was confused with at the beginning. Aren't we supposed to split the data into train and test? But it is actually not required since this is a unsupervised learning model and not a classification or regression model. The model is simply segregating the data based on similarity levels."
   ]
  },
  {
   "cell_type": "code",
   "execution_count": 53,
   "id": "55990b67-6e1e-4b83-a724-7cdeccd92104",
   "metadata": {},
   "outputs": [],
   "source": [
    "pokemon_color = []\n",
    "for i in range(len(ds[\"train\"])):\n",
    "    image = ds[\"train\"][i][\"image\"]\n",
    "    dominant_color = get_dominant_color(image)\n",
    "    pokemon_color.append({ds[\"train\"][i][\"name\"]:tuple(dominant_color)})\n",
    "                       "
   ]
  },
  {
   "cell_type": "code",
   "execution_count": 57,
   "id": "08a3b736-9527-47dc-82a5-23be047c32e2",
   "metadata": {},
   "outputs": [
    {
     "name": "stdout",
     "output_type": "stream",
     "text": [
      "    abomasnow-mega        abomasnow             abra       absol-mega  \\\n",
      "0  (247, 249, 251)              NaN              NaN              NaN   \n",
      "1              NaN  (250, 250, 251)              NaN              NaN   \n",
      "2              NaN              NaN  (254, 254, 254)              NaN   \n",
      "3              NaN              NaN              NaN  (247, 249, 252)   \n",
      "4              NaN              NaN              NaN              NaN   \n",
      "\n",
      "             absol accelgor aegislash-blade aegislash-shield aerodactyl-mega  \\\n",
      "0              NaN      NaN             NaN              NaN             NaN   \n",
      "1              NaN      NaN             NaN              NaN             NaN   \n",
      "2              NaN      NaN             NaN              NaN             NaN   \n",
      "3              NaN      NaN             NaN              NaN             NaN   \n",
      "4  (249, 250, 252)      NaN             NaN              NaN             NaN   \n",
      "\n",
      "  aerodactyl  ... zoroark zorua-hisui zorua zubat zweilous  \\\n",
      "0        NaN  ...     NaN         NaN   NaN   NaN      NaN   \n",
      "1        NaN  ...     NaN         NaN   NaN   NaN      NaN   \n",
      "2        NaN  ...     NaN         NaN   NaN   NaN      NaN   \n",
      "3        NaN  ...     NaN         NaN   NaN   NaN      NaN   \n",
      "4        NaN  ...     NaN         NaN   NaN   NaN      NaN   \n",
      "\n",
      "  zygarde-10-power-construct zygarde-10 zygarde-50-power-construct zygarde-50  \\\n",
      "0                        NaN        NaN                        NaN        NaN   \n",
      "1                        NaN        NaN                        NaN        NaN   \n",
      "2                        NaN        NaN                        NaN        NaN   \n",
      "3                        NaN        NaN                        NaN        NaN   \n",
      "4                        NaN        NaN                        NaN        NaN   \n",
      "\n",
      "  zygarde-complete  \n",
      "0              NaN  \n",
      "1              NaN  \n",
      "2              NaN  \n",
      "3              NaN  \n",
      "4              NaN  \n",
      "\n",
      "[5 rows x 1271 columns]\n"
     ]
    }
   ],
   "source": [
    "df = pd.DataFrame(pokemon_color)\n",
    "print(df.head())"
   ]
  },
  {
   "cell_type": "code",
   "execution_count": 85,
   "id": "e1d8de11-5074-4dfe-a7fa-74bb86273f17",
   "metadata": {},
   "outputs": [],
   "source": [
    "new_df = pd.DataFrame(columns=[\"Name\", \"Color\"])\n",
    "\n",
    "for col in df.columns:\n",
    "    for idx, val in enumerate(df[col]):\n",
    "        if pd.notna(val):\n",
    "            new_df = pd.concat([new_df, pd.DataFrame([{\"Name\": col, \"Color\": val}])], ignore_index=True)\n",
    "\n",
    "\n",
    "new_df[\"Color\"] = new_df[\"Color\"].apply(lambda x: eval(x) if isinstance(x, str) else x)\n"
   ]
  },
  {
   "cell_type": "code",
   "execution_count": 89,
   "id": "a9318179-7e7e-4985-9956-4d4c01cc3268",
   "metadata": {},
   "outputs": [],
   "source": [
    "new_df.to_csv(\"pokemon_color.csv\", index=False)\n"
   ]
  },
  {
   "cell_type": "code",
   "execution_count": null,
   "id": "758ee2e6-6413-41da-be80-ef00df78b90e",
   "metadata": {},
   "outputs": [],
   "source": []
  }
 ],
 "metadata": {
  "kernelspec": {
   "display_name": "Python [conda env:base] *",
   "language": "python",
   "name": "conda-base-py"
  },
  "language_info": {
   "codemirror_mode": {
    "name": "ipython",
    "version": 3
   },
   "file_extension": ".py",
   "mimetype": "text/x-python",
   "name": "python",
   "nbconvert_exporter": "python",
   "pygments_lexer": "ipython3",
   "version": "3.12.7"
  }
 },
 "nbformat": 4,
 "nbformat_minor": 5
}
