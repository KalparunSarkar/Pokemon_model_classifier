{
 "cells": [
  {
   "cell_type": "code",
   "execution_count": 2,
   "id": "effeafba-841e-4a65-828c-957f89095e19",
   "metadata": {},
   "outputs": [],
   "source": [
    "import pandas as pd\n",
    "import numpy as np\n",
    "from PIL import Image\n",
    "from collections import Counter\n",
    "from sklearn.cluster import KMeans"
   ]
  },
  {
   "cell_type": "code",
   "execution_count": 4,
   "id": "be1a5bfe-4538-4886-884b-f157a4e5b517",
   "metadata": {},
   "outputs": [
    {
     "name": "stdout",
     "output_type": "stream",
     "text": [
      "             Name            Color\n",
      "0  abomasnow-mega  (247, 249, 251)\n",
      "1       abomasnow  (250, 250, 251)\n",
      "2            abra  (254, 254, 254)\n",
      "3      absol-mega  (247, 249, 252)\n",
      "4           absol  (249, 250, 252)\n"
     ]
    }
   ],
   "source": [
    "df = pd.read_csv(\"pokemon_color.csv\")\n",
    "print(df.head())"
   ]
  },
  {
   "cell_type": "code",
   "execution_count": 6,
   "id": "58e61c4a-1952-4540-b2a5-87c65c2b7447",
   "metadata": {},
   "outputs": [],
   "source": [
    "def get_dominant_color(image, k=3):\n",
    "\n",
    "    image = image.convert(\"RGB\") ## This is important because the dataset we are handling has some greyscale or RGBA images\n",
    "    ## This will prevent \"ValueError: cannot reshape array of size 902500 into shape (3)\"\n",
    "    \n",
    "    img = np.array(image) ## Convert image into numpy array so that the computer can understand it\n",
    "    \n",
    "    pixels = img.reshape((-1, 3)) ## Reshape the array into a list of pixels. So each pixel will be characterized by the amount of RGB in it\n",
    "\n",
    "    # Apply K-Means clustering\n",
    "    \n",
    "    kmeans = KMeans(n_clusters=k, random_state=42, n_init=10) \n",
    "    ## K-Means randomly initializes centroids and sometimes it gets stuck in local minima\n",
    "    ## n_init chooses different inital value cases so that this can be avoided\n",
    "    \n",
    "    kmeans.fit(pixels)\n",
    "\n",
    "    counts = Counter(kmeans.labels_) ## counts each cluster instance\n",
    "    dominant_cluster = counts.most_common(1)[0][0] ## chooses the most dominant cluster\n",
    "    dominant_color = kmeans.cluster_centers_[dominant_cluster]\n",
    "    \n",
    "    return dominant_color.astype(int)"
   ]
  },
  {
   "cell_type": "code",
   "execution_count": 26,
   "id": "a24eb01a-871b-4928-b60a-aac7460c00a0",
   "metadata": {},
   "outputs": [],
   "source": [
    "def classify(image, df):\n",
    "    new_image = Image.open(image)\n",
    "    new_color = get_dominant_color(new_image)\n",
    "    \n",
    "    distances = []\n",
    "    for index, row in df.iterrows():\n",
    "        color_tuple = eval(row[\"Color\"])  \n",
    "        color_tuple = np.array(color_tuple)  \n",
    "        distance = np.linalg.norm(color_tuple - np.array(new_color))  \n",
    "        distances.append(distance)\n",
    "    \n",
    "    df[\"Distance\"] = distances\n",
    "    best_match = df.loc[df[\"Distance\"].idxmin(), \"Name\"]\n",
    "    \n",
    "    print(f\"The predicted Pokémon is: {best_match}\")"
   ]
  },
  {
   "cell_type": "code",
   "execution_count": 28,
   "id": "b35ef18c-ba85-4694-aea1-7e0e8893d951",
   "metadata": {},
   "outputs": [
    {
     "name": "stderr",
     "output_type": "stream",
     "text": [
      "/opt/anaconda3/lib/python3.12/site-packages/PIL/Image.py:1056: UserWarning: Palette images with Transparency expressed in bytes should be converted to RGBA images\n",
      "  warnings.warn(\n"
     ]
    },
    {
     "name": "stdout",
     "output_type": "stream",
     "text": [
      "The predicted Pokémon is: rotom-mow\n"
     ]
    }
   ],
   "source": [
    "image_path = \"/Users/kalparunsarkar/Documents/Pokemon ML model ACM/model/unknown pokemon.png\"\n",
    "classify(image_path, df)"
   ]
  },
  {
   "cell_type": "markdown",
   "id": "f2a3bd42-e7fc-475e-bf21-05a28d5960c6",
   "metadata": {},
   "source": [
    "This model is hilariously off course. Further refinement is required"
   ]
  }
 ],
 "metadata": {
  "kernelspec": {
   "display_name": "Python [conda env:base] *",
   "language": "python",
   "name": "conda-base-py"
  },
  "language_info": {
   "codemirror_mode": {
    "name": "ipython",
    "version": 3
   },
   "file_extension": ".py",
   "mimetype": "text/x-python",
   "name": "python",
   "nbconvert_exporter": "python",
   "pygments_lexer": "ipython3",
   "version": "3.12.7"
  }
 },
 "nbformat": 4,
 "nbformat_minor": 5
}
